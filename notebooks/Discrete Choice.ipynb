{
 "cells": [
  {
   "cell_type": "markdown",
   "metadata": {},
   "source": [
    "# Discrete choice\n",
    "\n",
    "This notebook generates the figures for the discrete choice section, using [statsmodels](https://statsmodels.org), [biogeme](http://biogeme.epfl.ch/), and data from the [2017 NHTS](https://nhts.ornl.gov)."
   ]
  },
  {
   "cell_type": "code",
   "execution_count": 1,
   "metadata": {},
   "outputs": [],
   "source": [
    "%matplotlib inline\n",
    "%config InlineBackend.figure_format = 'retina'\n",
    "\n",
    "import pandas as pd\n",
    "import numpy as np\n",
    "import matplotlib.pyplot as plt\n",
    "import statsmodels.api as sm\n",
    "from io import StringIO\n",
    "import biogeme.database as bdb\n",
    "import biogeme.biogeme as bio\n",
    "from biogeme.expressions import *\n",
    "import biogeme.distributions\n",
    "import biogeme.loglikelihood\n",
    "import biogeme.models"
   ]
  },
  {
   "cell_type": "code",
   "execution_count": 2,
   "metadata": {},
   "outputs": [],
   "source": [
    "trips = pd.read_csv('../data/trippub.csv')"
   ]
  },
  {
   "cell_type": "code",
   "execution_count": 3,
   "metadata": {},
   "outputs": [],
   "source": [
    "trips['carpool'] = (trips.NUMONTRP > 1).astype('int8')"
   ]
  },
  {
   "cell_type": "code",
   "execution_count": 4,
   "metadata": {},
   "outputs": [],
   "source": [
    "carTrips = trips[trips.TRPTRANS.isin([3, 4, 5, 6]) & (trips.DRVRCNT >= 1)].sample(n=10000, random_state=7284)"
   ]
  },
  {
   "cell_type": "code",
   "execution_count": 5,
   "metadata": {},
   "outputs": [],
   "source": [
    "carTrips['carsPerDriver'] = carTrips.HHVEHCNT / carTrips.DRVRCNT"
   ]
  },
  {
   "cell_type": "code",
   "execution_count": 6,
   "metadata": {},
   "outputs": [],
   "source": [
    "def formatModel (fit):\n",
    "    out = StringIO()\n",
    "    \n",
    "    # now make the table of coefficients\n",
    "    coefs = pd.DataFrame({\n",
    "        'Coefficient': fit.params,\n",
    "        'Std. err.': fit.bse,\n",
    "        '$t$-value': fit.tvalues,\n",
    "        '$p$-value': fit.pvalues,\n",
    "        '95% Conf.': fit.conf_int()[0],\n",
    "        'Int.': fit.conf_int()[1]\n",
    "    }).round(3)\n",
    "\n",
    "    \n",
    "    coefs.rename(index={\n",
    "        'const': 'Constant',\n",
    "        'carsPerDriver': 'Cars per driver'\n",
    "    }).to_latex(out)\n",
    "    \n",
    "    out.write('\\\\begin{tabular}{lclc}\\n')\n",
    "    out.write('Dependent variable & \\\\multicolumn{3}{l}{Carpool on trip} \\\\\\\\\\n')\n",
    "    if hasattr(fit, 'rsquared'):\n",
    "        out.write(f'$R^2$ & {fit.rsquared:.2f} & Adjusted $R^2$ & {fit.rsquared_adj:.2f} \\\\\\\\\\n')\n",
    "    elif hasattr(fit, 'prsquared'):\n",
    "        out.write(f'Pseudo-$R^2$ & {fit.prsquared:.2f} & \\\\\\\\\\n')\n",
    "    out.write(f'Sample size & {int(fit.nobs)} && \\\\\\\\\\n')\n",
    "    out.write('\\\\end{tabular}\\n')\n",
    "        \n",
    "    return out.getvalue().replace('\\\\$', '$')"
   ]
  },
  {
   "cell_type": "markdown",
   "metadata": {},
   "source": [
    "# Linear probability model"
   ]
  },
  {
   "cell_type": "code",
   "execution_count": 7,
   "metadata": {},
   "outputs": [
    {
     "data": {
      "text/html": [
       "<table class=\"simpletable\">\n",
       "<caption>OLS Regression Results</caption>\n",
       "<tr>\n",
       "  <th>Dep. Variable:</th>         <td>carpool</td>     <th>  R-squared:         </th> <td>   0.002</td> \n",
       "</tr>\n",
       "<tr>\n",
       "  <th>Model:</th>                   <td>OLS</td>       <th>  Adj. R-squared:    </th> <td>   0.002</td> \n",
       "</tr>\n",
       "<tr>\n",
       "  <th>Method:</th>             <td>Least Squares</td>  <th>  F-statistic:       </th> <td>   20.61</td> \n",
       "</tr>\n",
       "<tr>\n",
       "  <th>Date:</th>             <td>Thu, 27 Aug 2020</td> <th>  Prob (F-statistic):</th> <td>5.70e-06</td> \n",
       "</tr>\n",
       "<tr>\n",
       "  <th>Time:</th>                 <td>14:27:21</td>     <th>  Log-Likelihood:    </th> <td> -7242.5</td> \n",
       "</tr>\n",
       "<tr>\n",
       "  <th>No. Observations:</th>      <td> 10000</td>      <th>  AIC:               </th> <td>1.449e+04</td>\n",
       "</tr>\n",
       "<tr>\n",
       "  <th>Df Residuals:</th>          <td>  9998</td>      <th>  BIC:               </th> <td>1.450e+04</td>\n",
       "</tr>\n",
       "<tr>\n",
       "  <th>Df Model:</th>              <td>     1</td>      <th>                     </th>     <td> </td>    \n",
       "</tr>\n",
       "<tr>\n",
       "  <th>Covariance Type:</th>      <td>nonrobust</td>    <th>                     </th>     <td> </td>    \n",
       "</tr>\n",
       "</table>\n",
       "<table class=\"simpletable\">\n",
       "<tr>\n",
       "        <td></td>           <th>coef</th>     <th>std err</th>      <th>t</th>      <th>P>|t|</th>  <th>[0.025</th>    <th>0.975]</th>  \n",
       "</tr>\n",
       "<tr>\n",
       "  <th>const</th>         <td>    0.5348</td> <td>    0.012</td> <td>   43.622</td> <td> 0.000</td> <td>    0.511</td> <td>    0.559</td>\n",
       "</tr>\n",
       "<tr>\n",
       "  <th>carsPerDriver</th> <td>   -0.0424</td> <td>    0.009</td> <td>   -4.540</td> <td> 0.000</td> <td>   -0.061</td> <td>   -0.024</td>\n",
       "</tr>\n",
       "</table>\n",
       "<table class=\"simpletable\">\n",
       "<tr>\n",
       "  <th>Omnibus:</th>       <td>34641.688</td> <th>  Durbin-Watson:     </th> <td>   1.963</td>\n",
       "</tr>\n",
       "<tr>\n",
       "  <th>Prob(Omnibus):</th>  <td> 0.000</td>   <th>  Jarque-Bera (JB):  </th> <td>1653.451</td>\n",
       "</tr>\n",
       "<tr>\n",
       "  <th>Skew:</th>           <td> 0.064</td>   <th>  Prob(JB):          </th> <td>    0.00</td>\n",
       "</tr>\n",
       "<tr>\n",
       "  <th>Kurtosis:</th>       <td> 1.012</td>   <th>  Cond. No.          </th> <td>    4.89</td>\n",
       "</tr>\n",
       "</table><br/><br/>Warnings:<br/>[1] Standard Errors assume that the covariance matrix of the errors is correctly specified."
      ],
      "text/plain": [
       "<class 'statsmodels.iolib.summary.Summary'>\n",
       "\"\"\"\n",
       "                            OLS Regression Results                            \n",
       "==============================================================================\n",
       "Dep. Variable:                carpool   R-squared:                       0.002\n",
       "Model:                            OLS   Adj. R-squared:                  0.002\n",
       "Method:                 Least Squares   F-statistic:                     20.61\n",
       "Date:                Thu, 27 Aug 2020   Prob (F-statistic):           5.70e-06\n",
       "Time:                        14:27:21   Log-Likelihood:                -7242.5\n",
       "No. Observations:               10000   AIC:                         1.449e+04\n",
       "Df Residuals:                    9998   BIC:                         1.450e+04\n",
       "Df Model:                           1                                         \n",
       "Covariance Type:            nonrobust                                         \n",
       "=================================================================================\n",
       "                    coef    std err          t      P>|t|      [0.025      0.975]\n",
       "---------------------------------------------------------------------------------\n",
       "const             0.5348      0.012     43.622      0.000       0.511       0.559\n",
       "carsPerDriver    -0.0424      0.009     -4.540      0.000      -0.061      -0.024\n",
       "==============================================================================\n",
       "Omnibus:                    34641.688   Durbin-Watson:                   1.963\n",
       "Prob(Omnibus):                  0.000   Jarque-Bera (JB):             1653.451\n",
       "Skew:                           0.064   Prob(JB):                         0.00\n",
       "Kurtosis:                       1.012   Cond. No.                         4.89\n",
       "==============================================================================\n",
       "\n",
       "Warnings:\n",
       "[1] Standard Errors assume that the covariance matrix of the errors is correctly specified.\n",
       "\"\"\""
      ]
     },
     "execution_count": 7,
     "metadata": {},
     "output_type": "execute_result"
    }
   ],
   "source": [
    "lpm = sm.OLS(carTrips.carpool, sm.add_constant(carTrips[['carsPerDriver']]))\n",
    "lpmFit = lpm.fit()\n",
    "lpmFit.summary()"
   ]
  },
  {
   "cell_type": "code",
   "execution_count": 8,
   "metadata": {},
   "outputs": [
    {
     "name": "stdout",
     "output_type": "stream",
     "text": [
      "\\begin{tabular}{lrrrrrr}\n",
      "\\toprule\n",
      "{} &  Coefficient &  Std. err. &  $t$-value &  $p$-value &  95\\% Conf. &   Int. \\\\\n",
      "\\midrule\n",
      "Constant        &        0.535 &      0.012 &     43.622 &        0.0 &      0.511 &  0.559 \\\\\n",
      "Cars per driver &       -0.042 &      0.009 &     -4.540 &        0.0 &     -0.061 & -0.024 \\\\\n",
      "\\bottomrule\n",
      "\\end{tabular}\n",
      "\\begin{tabular}{lclc}\n",
      "Dependent variable & \\multicolumn{3}{l}{Carpool on trip} \\\\\n",
      "$R^2$ & 0.00 & Adjusted $R^2$ & 0.00 \\\\\n",
      "Sample size & 10000 && \\\\\n",
      "\\end{tabular}\n",
      "\n"
     ]
    }
   ],
   "source": [
    "print(formatModel(lpmFit))"
   ]
  },
  {
   "cell_type": "code",
   "execution_count": 9,
   "metadata": {},
   "outputs": [
    {
     "data": {
      "image/png": "[encoded data removed]",
      "text/plain": [
       "<Figure size 432x288 with 1 Axes>"
      ]
     },
     "metadata": {
      "image/png": {
       "height": 261,
       "width": 393
      },
      "needs_background": "light"
     },
     "output_type": "display_data"
    }
   ],
   "source": [
    "xs = np.array([0, 15])\n",
    "ys = lpmFit.params.const + lpmFit.params.carsPerDriver * xs\n",
    "plt.axhline(0, lw=0.5, color='gray')\n",
    "plt.plot(xs, ys, color='black')\n",
    "plt.xlim(*xs)\n",
    "plt.ylim(*sorted(ys))\n",
    "plt.xlabel('Cars per driver')\n",
    "plt.ylabel('Probability of carpooling')\n",
    "plt.savefig('../fig/linearprobabilitymodel.pdf', bbox_inches='tight')\n",
    "plt.fill_between([-20, 20], [-20, 0], color='red')\n",
    "plt.savefig('../fig/linearprobabilitymodel_highlight.pdf', bbox_inches='tight')"
   ]
  },
  {
   "cell_type": "markdown",
   "metadata": {},
   "source": [
    "# Logit"
   ]
  },
  {
   "cell_type": "code",
   "execution_count": 10,
   "metadata": {},
   "outputs": [
    {
     "name": "stdout",
     "output_type": "stream",
     "text": [
      "Optimization terminated successfully.\n",
      "         Current function value: 0.691593\n",
      "         Iterations 4\n"
     ]
    },
    {
     "data": {
      "text/html": [
       "<table class=\"simpletable\">\n",
       "<caption>Logit Regression Results</caption>\n",
       "<tr>\n",
       "  <th>Dep. Variable:</th>        <td>carpool</td>     <th>  No. Observations:  </th>  <td> 10000</td>  \n",
       "</tr>\n",
       "<tr>\n",
       "  <th>Model:</th>                 <td>Logit</td>      <th>  Df Residuals:      </th>  <td>  9998</td>  \n",
       "</tr>\n",
       "<tr>\n",
       "  <th>Method:</th>                 <td>MLE</td>       <th>  Df Model:          </th>  <td>     1</td>  \n",
       "</tr>\n",
       "<tr>\n",
       "  <th>Date:</th>            <td>Thu, 27 Aug 2020</td> <th>  Pseudo R-squ.:     </th> <td>0.001504</td> \n",
       "</tr>\n",
       "<tr>\n",
       "  <th>Time:</th>                <td>14:27:22</td>     <th>  Log-Likelihood:    </th> <td> -6915.9</td> \n",
       "</tr>\n",
       "<tr>\n",
       "  <th>converged:</th>             <td>True</td>       <th>  LL-Null:           </th> <td> -6926.4</td> \n",
       "</tr>\n",
       "<tr>\n",
       "  <th>Covariance Type:</th>     <td>nonrobust</td>    <th>  LLR p-value:       </th> <td>5.004e-06</td>\n",
       "</tr>\n",
       "</table>\n",
       "<table class=\"simpletable\">\n",
       "<tr>\n",
       "        <td></td>           <th>coef</th>     <th>std err</th>      <th>z</th>      <th>P>|z|</th>  <th>[0.025</th>    <th>0.975]</th>  \n",
       "</tr>\n",
       "<tr>\n",
       "  <th>const</th>         <td>    0.1440</td> <td>    0.050</td> <td>    2.865</td> <td> 0.004</td> <td>    0.045</td> <td>    0.243</td>\n",
       "</tr>\n",
       "<tr>\n",
       "  <th>carsPerDriver</th> <td>   -0.1738</td> <td>    0.039</td> <td>   -4.501</td> <td> 0.000</td> <td>   -0.250</td> <td>   -0.098</td>\n",
       "</tr>\n",
       "</table>"
      ],
      "text/plain": [
       "<class 'statsmodels.iolib.summary.Summary'>\n",
       "\"\"\"\n",
       "                           Logit Regression Results                           \n",
       "==============================================================================\n",
       "Dep. Variable:                carpool   No. Observations:                10000\n",
       "Model:                          Logit   Df Residuals:                     9998\n",
       "Method:                           MLE   Df Model:                            1\n",
       "Date:                Thu, 27 Aug 2020   Pseudo R-squ.:                0.001504\n",
       "Time:                        14:27:22   Log-Likelihood:                -6915.9\n",
       "converged:                       True   LL-Null:                       -6926.4\n",
       "Covariance Type:            nonrobust   LLR p-value:                 5.004e-06\n",
       "=================================================================================\n",
       "                    coef    std err          z      P>|z|      [0.025      0.975]\n",
       "---------------------------------------------------------------------------------\n",
       "const             0.1440      0.050      2.865      0.004       0.045       0.243\n",
       "carsPerDriver    -0.1738      0.039     -4.501      0.000      -0.250      -0.098\n",
       "=================================================================================\n",
       "\"\"\""
      ]
     },
     "execution_count": 10,
     "metadata": {},
     "output_type": "execute_result"
    }
   ],
   "source": [
    "logit = sm.Logit(carTrips.carpool, sm.add_constant(carTrips[['carsPerDriver']]))\n",
    "logitFit = logit.fit()\n",
    "logitFit.summary()"
   ]
  },
  {
   "cell_type": "code",
   "execution_count": 11,
   "metadata": {},
   "outputs": [
    {
     "name": "stdout",
     "output_type": "stream",
     "text": [
      "\\begin{tabular}{lrrrrrr}\n",
      "\\toprule\n",
      "{} &  Coefficient &  Std. err. &  $t$-value &  $p$-value &  95\\% Conf. &   Int. \\\\\n",
      "\\midrule\n",
      "Constant        &        0.144 &      0.050 &      2.865 &      0.004 &      0.045 &  0.243 \\\\\n",
      "Cars per driver &       -0.174 &      0.039 &     -4.501 &      0.000 &     -0.250 & -0.098 \\\\\n",
      "\\bottomrule\n",
      "\\end{tabular}\n",
      "\\begin{tabular}{lclc}\n",
      "Dependent variable & \\multicolumn{3}{l}{Carpool on trip} \\\\\n",
      "Pseudo-$R^2$ & 0.00 & \\\\\n",
      "Sample size & 10000 && \\\\\n",
      "\\end{tabular}\n",
      "\n"
     ]
    }
   ],
   "source": [
    "print(formatModel(logitFit))"
   ]
  },
  {
   "cell_type": "code",
   "execution_count": 12,
   "metadata": {},
   "outputs": [
    {
     "data": {
      "image/png": "[encoded data removed]",
      "text/plain": [
       "<Figure size 432x288 with 1 Axes>"
      ]
     },
     "metadata": {
      "image/png": {
       "height": 265,
       "width": 391
      },
      "needs_background": "light"
     },
     "output_type": "display_data"
    }
   ],
   "source": [
    "xs = np.arange(-15, 15, 0.05)\n",
    "ys = logitFit.params.const + logitFit.params.carsPerDriver * xs\n",
    "ys = np.exp(ys) / (1 + np.exp(ys))\n",
    "plt.axhline(0, lw=0.5, color='gray')\n",
    "plt.plot(xs, ys, color='black')\n",
    "plt.xlim(-15, 15)\n",
    "plt.ylim(0, 1)\n",
    "plt.xlabel('Cars per driver')\n",
    "plt.ylabel('Probability of carpooling')\n",
    "plt.savefig('../fig/logit.pdf', bbox_inches='tight')"
   ]
  },
  {
   "cell_type": "markdown",
   "metadata": {},
   "source": [
    "## Multinomial logit"
   ]
  },
  {
   "cell_type": "code",
   "execution_count": 13,
   "metadata": {},
   "outputs": [],
   "source": [
    "# use data from biogeme\n",
    "mnld = pd.read_csv('../data/optima.dat', sep='\\t').sort_values('ID')\n",
    "mnld['Choice'] = mnld.Choice.replace({-1: np.nan})\n",
    "\n",
    "mnld['incomeChf'] = mnld.Income.map({\n",
    "    1: 1250,\n",
    "    2: 3250,\n",
    "    3: 5000,\n",
    "    4: 7000,\n",
    "    5: 9000,\n",
    "    6: 11000,\n",
    "    -1: np.nan\n",
    "}) / 1000\n",
    "mnld['TimeWalk'] = mnld.TimeCar * 35 / 3 # assume average car trip at 35 mph, average walk at 3 mph\n",
    "mnld['av'] = 1\n",
    "\n",
    "db = bdb.Database('modechoice', mnld.dropna(subset=['incomeChf', 'Choice']))"
   ]
  },
  {
   "cell_type": "code",
   "execution_count": 14,
   "metadata": {},
   "outputs": [],
   "source": [
    "betas = {\n",
    "    'ascCar': Beta('ascCar', 0, None, None, 0),\n",
    "    'ascPt': Beta('ascPt', 0, None, None, 0),\n",
    "    'travelTime': Beta('travelTime', 0, None, None, 0),\n",
    "    'incCar': Beta('incCar', 0, None, None, 0),\n",
    "    'incPt': Beta('incPt', 0, None, None, 0)\n",
    "}"
   ]
  },
  {
   "cell_type": "code",
   "execution_count": 15,
   "metadata": {},
   "outputs": [],
   "source": [
    "# 0 = pt, 1 = car, 2 = walk\n",
    "utilities = {\n",
    "    0: betas['ascPt'] +   betas['travelTime'] * Variable('TimePT')   + betas['incPt']  * Variable('incomeChf'),\n",
    "    1: betas['ascCar'] +  betas['travelTime'] * Variable('TimeCar')  + betas['incCar'] * Variable('incomeChf'),\n",
    "    2:                    betas['travelTime'] * Variable('TimeWalk')\n",
    "}"
   ]
  },
  {
   "cell_type": "code",
   "execution_count": 16,
   "metadata": {},
   "outputs": [],
   "source": [
    "av = {\n",
    "    0: Variable('av'),\n",
    "    1: Variable('av'),\n",
    "    2: Variable('av')\n",
    "}"
   ]
  },
  {
   "cell_type": "code",
   "execution_count": 17,
   "metadata": {},
   "outputs": [],
   "source": [
    "logprob = biogeme.models.loglogit(utilities, av, Variable('Choice'))"
   ]
  },
  {
   "cell_type": "code",
   "execution_count": 18,
   "metadata": {},
   "outputs": [],
   "source": [
    "mnlFit = bio.BIOGEME(db, logprob)\n",
    "mnlFit.modelName = 'SimpleMNL'\n",
    "res = mnlFit.estimate()"
   ]
  },
  {
   "cell_type": "code",
   "execution_count": 19,
   "metadata": {},
   "outputs": [
    {
     "data": {
      "text/html": [
       "<div>\n",
       "<style scoped>\n",
       "    .dataframe tbody tr th:only-of-type {\n",
       "        vertical-align: middle;\n",
       "    }\n",
       "\n",
       "    .dataframe tbody tr th {\n",
       "        vertical-align: top;\n",
       "    }\n",
       "\n",
       "    .dataframe thead th {\n",
       "        text-align: right;\n",
       "    }\n",
       "</style>\n",
       "<table border=\"1\" class=\"dataframe\">\n",
       "  <thead>\n",
       "    <tr style=\"text-align: right;\">\n",
       "      <th></th>\n",
       "      <th>0</th>\n",
       "    </tr>\n",
       "  </thead>\n",
       "  <tbody>\n",
       "    <tr>\n",
       "      <th>Number of estimated parameters</th>\n",
       "      <td>5</td>\n",
       "    </tr>\n",
       "    <tr>\n",
       "      <th>Sample size</th>\n",
       "      <td>1730</td>\n",
       "    </tr>\n",
       "    <tr>\n",
       "      <th>Excluded observations</th>\n",
       "      <td>0</td>\n",
       "    </tr>\n",
       "    <tr>\n",
       "      <th>Init log likelihood</th>\n",
       "      <td>-1900.6</td>\n",
       "    </tr>\n",
       "    <tr>\n",
       "      <th>Final log likelihood</th>\n",
       "      <td>-1250.3</td>\n",
       "    </tr>\n",
       "    <tr>\n",
       "      <th>Likelihood ratio test for the init. model</th>\n",
       "      <td>1300.61</td>\n",
       "    </tr>\n",
       "    <tr>\n",
       "      <th>Rho-square for the init. model</th>\n",
       "      <td>0.342157</td>\n",
       "    </tr>\n",
       "    <tr>\n",
       "      <th>Rho-square-bar for the init. model</th>\n",
       "      <td>0.339527</td>\n",
       "    </tr>\n",
       "    <tr>\n",
       "      <th>Akaike Information Criterion</th>\n",
       "      <td>2510.59</td>\n",
       "    </tr>\n",
       "    <tr>\n",
       "      <th>Bayesian Information Criterion</th>\n",
       "      <td>2537.87</td>\n",
       "    </tr>\n",
       "    <tr>\n",
       "      <th>Final gradient norm</th>\n",
       "      <td>0.0102115</td>\n",
       "    </tr>\n",
       "    <tr>\n",
       "      <th>Nbr of threads</th>\n",
       "      <td>2</td>\n",
       "    </tr>\n",
       "  </tbody>\n",
       "</table>\n",
       "</div>"
      ],
      "text/plain": [
       "                                                   0\n",
       "Number of estimated parameters                     5\n",
       "Sample size                                     1730\n",
       "Excluded observations                              0\n",
       "Init log likelihood                          -1900.6\n",
       "Final log likelihood                         -1250.3\n",
       "Likelihood ratio test for the init. model    1300.61\n",
       "Rho-square for the init. model              0.342157\n",
       "Rho-square-bar for the init. model          0.339527\n",
       "Akaike Information Criterion                 2510.59\n",
       "Bayesian Information Criterion               2537.87\n",
       "Final gradient norm                        0.0102115\n",
       "Nbr of threads                                     2"
      ]
     },
     "execution_count": 19,
     "metadata": {},
     "output_type": "execute_result"
    }
   ],
   "source": [
    "pd.DataFrame(res.getGeneralStatistics()).transpose()[[0]]"
   ]
  },
  {
   "cell_type": "code",
   "execution_count": 20,
   "metadata": {},
   "outputs": [
    {
     "name": "stdout",
     "output_type": "stream",
     "text": [
      "\\begin{tabular}{lrrrrrrr}\n",
      "\\toprule\n",
      "{} &  Value &  Std err &  t-test &  p-value &  Rob. Std err &  Rob. t-test &  Rob. p-value \\\\\n",
      "\\midrule\n",
      "ascCar     &   1.58 &     0.37 &    4.31 &      0.0 &          0.36 &         4.45 &           0.0 \\\\\n",
      "ascPt      &   1.36 &     0.37 &    3.65 &      0.0 &          0.33 &         4.09 &           0.0 \\\\\n",
      "incCar     &  -0.15 &     0.04 &   -3.42 &      0.0 &          0.04 &        -3.93 &           0.0 \\\\\n",
      "incPt      &  -0.16 &     0.05 &   -3.47 &      0.0 &          0.04 &        -4.08 &           0.0 \\\\\n",
      "travelTime &  -0.01 &     0.00 &  -11.77 &      0.0 &          0.00 &        -7.30 &           0.0 \\\\\n",
      "\\bottomrule\n",
      "\\end{tabular}\n",
      "\n"
     ]
    }
   ],
   "source": [
    "print(res.getEstimatedParameters().round(2).to_latex())"
   ]
  },
  {
   "cell_type": "code",
   "execution_count": null,
   "metadata": {},
   "outputs": [],
   "source": []
  }
 ],
 "metadata": {
  "kernelspec": {
   "display_name": "Python 3",
   "language": "python",
   "name": "python3"
  },
  "language_info": {
   "codemirror_mode": {
    "name": "ipython",
    "version": 3
   },
   "file_extension": ".py",
   "mimetype": "text/x-python",
   "name": "python",
   "nbconvert_exporter": "python",
   "pygments_lexer": "ipython3",
   "version": "3.8.2"
  }
 },
 "nbformat": 4,
 "nbformat_minor": 4
}
